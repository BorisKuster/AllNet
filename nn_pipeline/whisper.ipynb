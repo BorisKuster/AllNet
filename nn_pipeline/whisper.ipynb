{
 "cells": [
  {
   "cell_type": "code",
   "execution_count": 1,
   "id": "dc9cf248",
   "metadata": {},
   "outputs": [],
   "source": [
    "import whisper\n",
    "import ffmpeg\n",
    "import numpy as np\n",
    "import torch\n",
    "import pyaudio"
   ]
  },
  {
   "cell_type": "markdown",
   "id": "2e087a87",
   "metadata": {},
   "source": [
    "# Get input audio"
   ]
  },
  {
   "cell_type": "markdown",
   "id": "f02b5e8e",
   "metadata": {},
   "source": [
    "# Process audio and turn to TEXT"
   ]
  },
  {
   "cell_type": "markdown",
   "id": "aa56803f",
   "metadata": {},
   "source": [
    "# TEXT to SPEECH"
   ]
  },
  {
   "cell_type": "code",
   "execution_count": 3,
   "id": "8afcc197",
   "metadata": {},
   "outputs": [
    {
     "name": "stdout",
     "output_type": "stream",
     "text": [
      "{'index': 8, 'structVersion': 2, 'name': 'Logitech USB Headset: Audio (hw:3,0)', 'hostApi': 0, 'maxInputChannels': 1, 'maxOutputChannels': 2, 'defaultLowInputLatency': 0.008, 'defaultLowOutputLatency': 0.008, 'defaultHighInputLatency': 0.032, 'defaultHighOutputLatency': 0.032, 'defaultSampleRate': 48000.0}\n",
      "Exception: [Errno -9996] Invalid device info\n",
      "Exception: [Errno -9996] Invalid device info\n",
      "Exception: [Errno -9996] Invalid device info\n",
      "Exception: [Errno -9996] Invalid device info\n",
      "Exception: [Errno -9996] Invalid device info\n",
      "Exception: [Errno -9996] Invalid device info\n"
     ]
    },
    {
     "name": "stderr",
     "output_type": "stream",
     "text": [
      "ALSA lib pcm_dsnoop.c:641:(snd_pcm_dsnoop_open) unable to open slave\n",
      "ALSA lib pcm_dmix.c:1089:(snd_pcm_dmix_open) unable to open slave\n",
      "ALSA lib pcm.c:2642:(snd_pcm_open_noupdate) Unknown PCM cards.pcm.rear\n",
      "ALSA lib pcm.c:2642:(snd_pcm_open_noupdate) Unknown PCM cards.pcm.center_lfe\n",
      "ALSA lib pcm.c:2642:(snd_pcm_open_noupdate) Unknown PCM cards.pcm.side\n",
      "ALSA lib pcm_dsnoop.c:641:(snd_pcm_dsnoop_open) unable to open slave\n",
      "ALSA lib pcm_dmix.c:1089:(snd_pcm_dmix_open) unable to open slave\n",
      "ALSA lib pcm_dmix.c:1089:(snd_pcm_dmix_open) unable to open slave\n"
     ]
    }
   ],
   "source": [
    "def pyaudio_get_output_device(searching_for = 'Logitech'):\n",
    "    # Input params\n",
    "    # Searching for - partial name of device which should be used. UPPER AND LOWER CASE MATTERS ! \n",
    "\n",
    "    # Find device\n",
    "    good_device_info = None\n",
    "    aud = pyaudio.PyAudio()\n",
    "    for i in range(0,15):\n",
    "        try:\n",
    "            info = aud.get_device_info_by_index(i)\n",
    "            #print(info['name'])\n",
    "            if searching_for in info['name']:\n",
    "                if info['maxOutputChannels']>=1:\n",
    "                    print(info)\n",
    "                    good_device_info = info\n",
    "        except Exception as e :\n",
    "            print(\"Exception:\", e)\n",
    "            \n",
    "    aud.terminate()\n",
    "    if good_device_info is None:\n",
    "        raise Exception(\"Did not find a good input device !\")\n",
    "    else:\n",
    "        return good_device_info\n",
    "\n",
    "info = pyaudio_get_output_device()\n",
    "good_idx = info"
   ]
  },
  {
   "cell_type": "raw",
   "id": "64b3d974",
   "metadata": {},
   "source": [
    "from audio_utils import play_audiofile\n",
    "play_audiofile(audiofile = 'output.wav', output_device_index = 0)"
   ]
  },
  {
   "cell_type": "code",
   "execution_count": 4,
   "id": "6546af9e",
   "metadata": {},
   "outputs": [
    {
     "name": "stdout",
     "output_type": "stream",
     "text": [
      " > Downloading model to /root/.local/share/tts/tts_models--multilingual--multi-dataset--your_tts\n",
      " > Model's license - CC BY-NC-ND 4.0\n",
      " > Check https://creativecommons.org/licenses/by-nc-nd/4.0/ for more info.\n",
      " > Using model: vits\n",
      " > Setting up Audio Processor...\n",
      " | > sample_rate:16000\n",
      " | > resample:False\n",
      " | > num_mels:80\n",
      " | > log_func:np.log10\n",
      " | > min_level_db:0\n",
      " | > frame_shift_ms:None\n",
      " | > frame_length_ms:None\n",
      " | > ref_level_db:None\n",
      " | > fft_size:1024\n",
      " | > power:None\n",
      " | > preemphasis:0.0\n",
      " | > griffin_lim_iters:None\n",
      " | > signal_norm:None\n",
      " | > symmetric_norm:None\n",
      " | > mel_fmin:0\n",
      " | > mel_fmax:None\n",
      " | > pitch_fmin:None\n",
      " | > pitch_fmax:None\n",
      " | > spec_gain:20.0\n",
      " | > stft_pad_mode:reflect\n",
      " | > max_norm:1.0\n",
      " | > clip_norm:True\n",
      " | > do_trim_silence:False\n",
      " | > trim_db:60\n",
      " | > do_sound_norm:False\n",
      " | > do_amp_to_db_linear:True\n",
      " | > do_amp_to_db_mel:True\n",
      " | > do_rms_norm:False\n",
      " | > db_level:None\n",
      " | > stats_path:None\n",
      " | > base:10\n",
      " | > hop_length:256\n",
      " | > win_length:1024\n",
      " > Model fully restored. \n",
      " > Setting up Audio Processor...\n",
      " | > sample_rate:16000\n",
      " | > resample:False\n",
      " | > num_mels:64\n",
      " | > log_func:np.log10\n",
      " | > min_level_db:-100\n",
      " | > frame_shift_ms:None\n",
      " | > frame_length_ms:None\n",
      " | > ref_level_db:20\n",
      " | > fft_size:512\n",
      " | > power:1.5\n",
      " | > preemphasis:0.97\n",
      " | > griffin_lim_iters:60\n",
      " | > signal_norm:False\n",
      " | > symmetric_norm:False\n",
      " | > mel_fmin:0\n",
      " | > mel_fmax:8000.0\n",
      " | > pitch_fmin:1.0\n",
      " | > pitch_fmax:640.0\n",
      " | > spec_gain:20.0\n",
      " | > stft_pad_mode:reflect\n",
      " | > max_norm:4.0\n",
      " | > clip_norm:False\n",
      " | > do_trim_silence:False\n",
      " | > trim_db:60\n",
      " | > do_sound_norm:False\n",
      " | > do_amp_to_db_linear:True\n",
      " | > do_amp_to_db_mel:True\n",
      " | > do_rms_norm:True\n",
      " | > db_level:-27.0\n",
      " | > stats_path:None\n",
      " | > base:10\n",
      " | > hop_length:160\n",
      " | > win_length:400\n",
      " > External Speaker Encoder Loaded !!\n",
      " > initialization of language-embedding layers.\n",
      " > Model fully restored. \n",
      " > Setting up Audio Processor...\n",
      " | > sample_rate:16000\n",
      " | > resample:False\n",
      " | > num_mels:64\n",
      " | > log_func:np.log10\n",
      " | > min_level_db:-100\n",
      " | > frame_shift_ms:None\n",
      " | > frame_length_ms:None\n",
      " | > ref_level_db:20\n",
      " | > fft_size:512\n",
      " | > power:1.5\n",
      " | > preemphasis:0.97\n",
      " | > griffin_lim_iters:60\n",
      " | > signal_norm:False\n",
      " | > symmetric_norm:False\n",
      " | > mel_fmin:0\n",
      " | > mel_fmax:8000.0\n",
      " | > pitch_fmin:1.0\n",
      " | > pitch_fmax:640.0\n",
      " | > spec_gain:20.0\n",
      " | > stft_pad_mode:reflect\n",
      " | > max_norm:4.0\n",
      " | > clip_norm:False\n",
      " | > do_trim_silence:False\n",
      " | > trim_db:60\n",
      " | > do_sound_norm:False\n",
      " | > do_amp_to_db_linear:True\n",
      " | > do_amp_to_db_mel:True\n",
      " | > do_rms_norm:True\n",
      " | > db_level:-27.0\n",
      " | > stats_path:None\n",
      " | > base:10\n",
      " | > hop_length:160\n",
      " | > win_length:400\n"
     ]
    }
   ],
   "source": [
    "from TTS.api import TTS\n",
    "\n",
    "class TextToSpeech:\n",
    "    def __init__(self):\n",
    "        # Running a multi-speaker and multi-lingual model\n",
    "\n",
    "        # List available \n",
    "        model_name = TTS.list_models()[0]\n",
    "        # Init TTS\n",
    "        self.tts = TTS(model_name, progress_bar = False, gpu = True);\n",
    "    def text_to_speech(self, text):\n",
    "        self.text_to_speech_to_file(text, output = 'tmp1.wav')\n",
    "        \n",
    "        \n",
    "    def text_to_speech_to_file(self, text, output = 'output.wav'):\n",
    "        # Run TTS\n",
    "        self.tts.tts_to_file(text=text, speaker=self.tts.speakers[4], language=self.tts.languages[0], \n",
    "                             file_path=\"output.wav\")\n",
    "        #wav = tts.tts(\"This is a test! This is also a test!!\", speaker=tts.speakers[1], language=tts.languages[0])\n",
    "        # Text to speech to a file\n",
    "        #tts.tts_to_file(text=\"Hello world!\", speaker=tts.speakers[0], language=tts.languages[0], file_path=\"output.wav\")\n",
    "txt2spch = TextToSpeech()"
   ]
  },
  {
   "cell_type": "code",
   "execution_count": 34,
   "id": "281fd127",
   "metadata": {},
   "outputs": [
    {
     "name": "stdout",
     "output_type": "stream",
     "text": [
      " > Text splitted to sentences.\n",
      "['let me tell you a little something something']\n",
      " > Processing time: 0.05411958694458008\n",
      " > Real-time factor: 0.02181361827673522\n",
      "\r"
     ]
    }
   ],
   "source": [
    "txt2spch.text_to_speech_to_file(text = 'let me tell you a little something something')"
   ]
  },
  {
   "cell_type": "markdown",
   "id": "896b0b95",
   "metadata": {},
   "source": [
    "# ChatGPT API"
   ]
  },
  {
   "cell_type": "code",
   "execution_count": 4,
   "id": "cc31b565",
   "metadata": {},
   "outputs": [],
   "source": [
    "# TODO - Get a ChatGPT API which actually works."
   ]
  },
  {
   "cell_type": "markdown",
   "id": "1048e3a0",
   "metadata": {},
   "source": [
    "# Streaming audio"
   ]
  },
  {
   "cell_type": "code",
   "execution_count": 9,
   "id": "47c88691",
   "metadata": {},
   "outputs": [
    {
     "name": "stdout",
     "output_type": "stream",
     "text": [
      "{'index': 8, 'structVersion': 2, 'name': 'Logitech USB Headset: Audio (hw:3,0)', 'hostApi': 0, 'maxInputChannels': 1, 'maxOutputChannels': 2, 'defaultLowInputLatency': 0.008, 'defaultLowOutputLatency': 0.008, 'defaultHighInputLatency': 0.032, 'defaultHighOutputLatency': 0.032, 'defaultSampleRate': 48000.0}\n",
      "Exception: [Errno -9996] Invalid device info\n",
      "Exception: [Errno -9996] Invalid device info\n",
      "Exception: [Errno -9996] Invalid device info\n",
      "Exception: [Errno -9996] Invalid device info\n",
      "Exception: [Errno -9996] Invalid device info\n",
      "Exception: [Errno -9996] Invalid device info\n"
     ]
    },
    {
     "name": "stderr",
     "output_type": "stream",
     "text": [
      "ALSA lib pcm_dsnoop.c:641:(snd_pcm_dsnoop_open) unable to open slave\n",
      "ALSA lib pcm_dmix.c:1089:(snd_pcm_dmix_open) unable to open slave\n",
      "ALSA lib pcm.c:2642:(snd_pcm_open_noupdate) Unknown PCM cards.pcm.rear\n",
      "ALSA lib pcm.c:2642:(snd_pcm_open_noupdate) Unknown PCM cards.pcm.center_lfe\n",
      "ALSA lib pcm.c:2642:(snd_pcm_open_noupdate) Unknown PCM cards.pcm.side\n",
      "ALSA lib pcm_dsnoop.c:641:(snd_pcm_dsnoop_open) unable to open slave\n",
      "ALSA lib pcm_dmix.c:1089:(snd_pcm_dmix_open) unable to open slave\n",
      "ALSA lib pcm_dmix.c:1089:(snd_pcm_dmix_open) unable to open slave\n"
     ]
    },
    {
     "name": "stdout",
     "output_type": "stream",
     "text": [
      "KWARGS: {'format': 8, 'channels': 1, 'rate': 48000, 'input': True, 'frames_per_buffer': 960, 'stream_callback': <function Audio.__init__.<locals>.proxy_callback at 0x7f3a8440f700>, 'input_device_index': 8}\n",
      "\r"
     ]
    },
    {
     "name": "stderr",
     "output_type": "stream",
     "text": [
      "ALSA lib pcm_dsnoop.c:641:(snd_pcm_dsnoop_open) unable to open slave\n",
      "ALSA lib pcm_dmix.c:1089:(snd_pcm_dmix_open) unable to open slave\n",
      "ALSA lib pcm.c:2642:(snd_pcm_open_noupdate) Unknown PCM cards.pcm.rear\n",
      "ALSA lib pcm.c:2642:(snd_pcm_open_noupdate) Unknown PCM cards.pcm.center_lfe\n",
      "ALSA lib pcm.c:2642:(snd_pcm_open_noupdate) Unknown PCM cards.pcm.side\n",
      "ALSA lib pcm_dsnoop.c:641:(snd_pcm_dsnoop_open) unable to open slave\n",
      "ALSA lib pcm_dmix.c:1089:(snd_pcm_dmix_open) unable to open slave\n",
      "ALSA lib pcm_dmix.c:1089:(snd_pcm_dmix_open) unable to open slave\n"
     ]
    }
   ],
   "source": [
    "from audio_utils import record_clip, pyaudio_get_input_mic_device, SpeechToTextHandler\n",
    "# Get good device info\n",
    "device_info = pyaudio_get_input_mic_device()\n",
    "# Initialize VAD and stuffs\n",
    "\n",
    "device = \"cuda\" if torch.cuda.is_available() else \"cpu\"\n",
    "model = whisper.load_model(\"base\").to(device)\n",
    "\n",
    "Speech_to_text_obj = SpeechToTextHandler(nospinner = False, model=model, savewav = False, vad_aggressiveness=0,\n",
    "                                         device = device_info['index'], rate = int(device_info['defaultSampleRate']),file = 'out.wav')"
   ]
  },
  {
   "cell_type": "code",
   "execution_count": 10,
   "id": "1c105124",
   "metadata": {},
   "outputs": [
    {
     "name": "stdout",
     "output_type": "stream",
     "text": [
      "Listening (ctrl-C to exit)...\n",
      "Thank you.\n",
      "Tell me something.\n",
      "Thank you.\\ | / - \\ | \n",
      "Thank you.\\ | / - \\ | / - \\ | / - \\ | / - \\ | \n",
      "Don't act late. - \\ | / \n",
      "Don't act late. - \\ | / - \\ | / - \\ | / - \\ | / - \\ | / - \\ | / \n",
      "4 to 4, go to the audio.- \\ | / - \\ | / - \\ | / - \\ | / - \\ | / - \\ | / - \\ | / - \\ | / - \\ | / - \\ | / - \\ | / - \\ | \n",
      "you | / \n",
      "What's the mod? Pick a mod. | / - \\ | / - \\ | / - \\ | / - \\ | / - \\ | / - \\ | / - \\ | / - \\ | / - \\ | / - \\ | / - \\ | / \n",
      "Thank you.\\ | / - \\ | / - \\ | / - \\ | / - \\ | / - \\ | / - \\ | / - \\ | \n",
      "3 is the most aggressive- \\ | / - \\ | / - \\ | / - \\ | / - \\ | / - \\ | / - \\ | / - \\ | / - \\ | / - \\ | / - \\ | / - \\ | / - \\ | / - \\ | / - \\ | / - \\ | / - \\ | / - \n",
      "- \\ | "
     ]
    },
    {
     "data": {
      "text/plain": [
       "<audio_utils.VADAudio at 0x7f3a9508db20>"
      ]
     },
     "execution_count": 10,
     "metadata": {},
     "output_type": "execute_result"
    },
    {
     "name": "stdout",
     "output_type": "stream",
     "text": [
      "\r"
     ]
    }
   ],
   "source": [
    "Speech_to_text_obj.stream_from_mic()"
   ]
  },
  {
   "cell_type": "raw",
   "id": "d295ce94",
   "metadata": {},
   "source": [
    "Speech_to_text_obj.vad_audio.destroy()"
   ]
  }
 ],
 "metadata": {
  "kernelspec": {
   "display_name": "Python 3 (ipykernel)",
   "language": "python",
   "name": "python3"
  },
  "language_info": {
   "codemirror_mode": {
    "name": "ipython",
    "version": 3
   },
   "file_extension": ".py",
   "mimetype": "text/x-python",
   "name": "python",
   "nbconvert_exporter": "python",
   "pygments_lexer": "ipython3",
   "version": "3.8.10"
  }
 },
 "nbformat": 4,
 "nbformat_minor": 5
}
